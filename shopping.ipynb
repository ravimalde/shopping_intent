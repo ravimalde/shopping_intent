{
 "cells": [
  {
   "cell_type": "markdown",
   "id": "conservative-yorkshire",
   "metadata": {},
   "source": [
    "# Online Shoppers Intent"
   ]
  },
  {
   "cell_type": "markdown",
   "id": "casual-night",
   "metadata": {},
   "source": [
    "The online shoppers intent dataset has been sourced from the [UCI Machine Learning Repository](https://archive.ics.uci.edu/ml/datasets/Online+Shoppers+Purchasing+Intention+Dataset#). It contains features that describe shoppers' actions on an online shop and whether or not any revenue was generated from a given customer.\n",
    "\n",
    "In this notebook we are going to explore this data, use clustering techniques to discover the various groups of prospective customers, and then apply some regression techniques to predict whether or not a customer is going to make. purchase during their visit to the website."
   ]
  },
  {
   "cell_type": "markdown",
   "id": "respected-music",
   "metadata": {},
   "source": [
    "## Library and Data Import"
   ]
  },
  {
   "cell_type": "code",
   "execution_count": 76,
   "id": "separate-offense",
   "metadata": {},
   "outputs": [],
   "source": [
    "import pandas as pd\n",
    "import matplotlib.pyplot as plt\n",
    "import seaborn as sns\n",
    "\n",
    "from sklearn.model_selection import train_test_split\n",
    "from sklearn.cluster import KMeans, AgglomerativeClustering\n",
    "from sklearn.preprocessing import StandardScaler"
   ]
  },
  {
   "cell_type": "code",
   "execution_count": 2,
   "id": "sharp-sphere",
   "metadata": {},
   "outputs": [],
   "source": [
    "df = pd.read_csv(\"./online_shoppers_intention.csv\")"
   ]
  },
  {
   "cell_type": "code",
   "execution_count": 3,
   "id": "maritime-withdrawal",
   "metadata": {},
   "outputs": [
    {
     "data": {
      "text/plain": [
       "Index(['Administrative', 'Administrative_Duration', 'Informational',\n",
       "       'Informational_Duration', 'ProductRelated', 'ProductRelated_Duration',\n",
       "       'BounceRates', 'ExitRates', 'PageValues', 'SpecialDay', 'Month',\n",
       "       'OperatingSystems', 'Browser', 'Region', 'TrafficType', 'VisitorType',\n",
       "       'Weekend', 'Revenue'],\n",
       "      dtype='object')"
      ]
     },
     "execution_count": 3,
     "metadata": {},
     "output_type": "execute_result"
    }
   ],
   "source": [
    "df.columns"
   ]
  },
  {
   "cell_type": "code",
   "execution_count": 4,
   "id": "according-consolidation",
   "metadata": {},
   "outputs": [
    {
     "data": {
      "text/html": [
       "<div>\n",
       "<style scoped>\n",
       "    .dataframe tbody tr th:only-of-type {\n",
       "        vertical-align: middle;\n",
       "    }\n",
       "\n",
       "    .dataframe tbody tr th {\n",
       "        vertical-align: top;\n",
       "    }\n",
       "\n",
       "    .dataframe thead th {\n",
       "        text-align: right;\n",
       "    }\n",
       "</style>\n",
       "<table border=\"1\" class=\"dataframe\">\n",
       "  <thead>\n",
       "    <tr style=\"text-align: right;\">\n",
       "      <th></th>\n",
       "      <th>Administrative</th>\n",
       "      <th>Administrative_Duration</th>\n",
       "      <th>Informational</th>\n",
       "      <th>Informational_Duration</th>\n",
       "      <th>ProductRelated</th>\n",
       "      <th>ProductRelated_Duration</th>\n",
       "      <th>BounceRates</th>\n",
       "      <th>ExitRates</th>\n",
       "      <th>PageValues</th>\n",
       "      <th>SpecialDay</th>\n",
       "      <th>Month</th>\n",
       "      <th>OperatingSystems</th>\n",
       "      <th>Browser</th>\n",
       "      <th>Region</th>\n",
       "      <th>TrafficType</th>\n",
       "      <th>VisitorType</th>\n",
       "      <th>Weekend</th>\n",
       "      <th>Revenue</th>\n",
       "    </tr>\n",
       "  </thead>\n",
       "  <tbody>\n",
       "    <tr>\n",
       "      <th>0</th>\n",
       "      <td>0</td>\n",
       "      <td>0.0</td>\n",
       "      <td>0</td>\n",
       "      <td>0.0</td>\n",
       "      <td>1</td>\n",
       "      <td>0.000000</td>\n",
       "      <td>0.20</td>\n",
       "      <td>0.20</td>\n",
       "      <td>0.0</td>\n",
       "      <td>0.0</td>\n",
       "      <td>Feb</td>\n",
       "      <td>1</td>\n",
       "      <td>1</td>\n",
       "      <td>1</td>\n",
       "      <td>1</td>\n",
       "      <td>Returning_Visitor</td>\n",
       "      <td>False</td>\n",
       "      <td>False</td>\n",
       "    </tr>\n",
       "    <tr>\n",
       "      <th>1</th>\n",
       "      <td>0</td>\n",
       "      <td>0.0</td>\n",
       "      <td>0</td>\n",
       "      <td>0.0</td>\n",
       "      <td>2</td>\n",
       "      <td>64.000000</td>\n",
       "      <td>0.00</td>\n",
       "      <td>0.10</td>\n",
       "      <td>0.0</td>\n",
       "      <td>0.0</td>\n",
       "      <td>Feb</td>\n",
       "      <td>2</td>\n",
       "      <td>2</td>\n",
       "      <td>1</td>\n",
       "      <td>2</td>\n",
       "      <td>Returning_Visitor</td>\n",
       "      <td>False</td>\n",
       "      <td>False</td>\n",
       "    </tr>\n",
       "    <tr>\n",
       "      <th>2</th>\n",
       "      <td>0</td>\n",
       "      <td>0.0</td>\n",
       "      <td>0</td>\n",
       "      <td>0.0</td>\n",
       "      <td>1</td>\n",
       "      <td>0.000000</td>\n",
       "      <td>0.20</td>\n",
       "      <td>0.20</td>\n",
       "      <td>0.0</td>\n",
       "      <td>0.0</td>\n",
       "      <td>Feb</td>\n",
       "      <td>4</td>\n",
       "      <td>1</td>\n",
       "      <td>9</td>\n",
       "      <td>3</td>\n",
       "      <td>Returning_Visitor</td>\n",
       "      <td>False</td>\n",
       "      <td>False</td>\n",
       "    </tr>\n",
       "    <tr>\n",
       "      <th>3</th>\n",
       "      <td>0</td>\n",
       "      <td>0.0</td>\n",
       "      <td>0</td>\n",
       "      <td>0.0</td>\n",
       "      <td>2</td>\n",
       "      <td>2.666667</td>\n",
       "      <td>0.05</td>\n",
       "      <td>0.14</td>\n",
       "      <td>0.0</td>\n",
       "      <td>0.0</td>\n",
       "      <td>Feb</td>\n",
       "      <td>3</td>\n",
       "      <td>2</td>\n",
       "      <td>2</td>\n",
       "      <td>4</td>\n",
       "      <td>Returning_Visitor</td>\n",
       "      <td>False</td>\n",
       "      <td>False</td>\n",
       "    </tr>\n",
       "    <tr>\n",
       "      <th>4</th>\n",
       "      <td>0</td>\n",
       "      <td>0.0</td>\n",
       "      <td>0</td>\n",
       "      <td>0.0</td>\n",
       "      <td>10</td>\n",
       "      <td>627.500000</td>\n",
       "      <td>0.02</td>\n",
       "      <td>0.05</td>\n",
       "      <td>0.0</td>\n",
       "      <td>0.0</td>\n",
       "      <td>Feb</td>\n",
       "      <td>3</td>\n",
       "      <td>3</td>\n",
       "      <td>1</td>\n",
       "      <td>4</td>\n",
       "      <td>Returning_Visitor</td>\n",
       "      <td>True</td>\n",
       "      <td>False</td>\n",
       "    </tr>\n",
       "  </tbody>\n",
       "</table>\n",
       "</div>"
      ],
      "text/plain": [
       "   Administrative  Administrative_Duration  Informational  \\\n",
       "0               0                      0.0              0   \n",
       "1               0                      0.0              0   \n",
       "2               0                      0.0              0   \n",
       "3               0                      0.0              0   \n",
       "4               0                      0.0              0   \n",
       "\n",
       "   Informational_Duration  ProductRelated  ProductRelated_Duration  \\\n",
       "0                     0.0               1                 0.000000   \n",
       "1                     0.0               2                64.000000   \n",
       "2                     0.0               1                 0.000000   \n",
       "3                     0.0               2                 2.666667   \n",
       "4                     0.0              10               627.500000   \n",
       "\n",
       "   BounceRates  ExitRates  PageValues  SpecialDay Month  OperatingSystems  \\\n",
       "0         0.20       0.20         0.0         0.0   Feb                 1   \n",
       "1         0.00       0.10         0.0         0.0   Feb                 2   \n",
       "2         0.20       0.20         0.0         0.0   Feb                 4   \n",
       "3         0.05       0.14         0.0         0.0   Feb                 3   \n",
       "4         0.02       0.05         0.0         0.0   Feb                 3   \n",
       "\n",
       "   Browser  Region  TrafficType        VisitorType  Weekend  Revenue  \n",
       "0        1       1            1  Returning_Visitor    False    False  \n",
       "1        2       1            2  Returning_Visitor    False    False  \n",
       "2        1       9            3  Returning_Visitor    False    False  \n",
       "3        2       2            4  Returning_Visitor    False    False  \n",
       "4        3       1            4  Returning_Visitor     True    False  "
      ]
     },
     "execution_count": 4,
     "metadata": {},
     "output_type": "execute_result"
    }
   ],
   "source": [
    "df.head()"
   ]
  },
  {
   "cell_type": "code",
   "execution_count": 5,
   "id": "loving-consistency",
   "metadata": {},
   "outputs": [
    {
     "name": "stdout",
     "output_type": "stream",
     "text": [
      "Administrative | 27\n",
      "Administrative_Duration | 3335\n",
      "Informational | 17\n",
      "Informational_Duration | 1258\n",
      "ProductRelated | 311\n",
      "ProductRelated_Duration | 9551\n",
      "BounceRates | 1872\n",
      "ExitRates | 4777\n",
      "PageValues | 2704\n",
      "SpecialDay | 6\n",
      "Month | 10\n",
      "OperatingSystems | 8\n",
      "Browser | 13\n",
      "Region | 9\n",
      "TrafficType | 20\n",
      "VisitorType | 3\n",
      "Weekend | 2\n",
      "Revenue | 2\n"
     ]
    }
   ],
   "source": [
    "for col in df.columns:\n",
    "    print(f\"{col} | {df[col].nunique()}\")"
   ]
  },
  {
   "cell_type": "code",
   "execution_count": 6,
   "id": "compatible-product",
   "metadata": {},
   "outputs": [
    {
     "data": {
      "text/plain": [
       "Administrative               int64\n",
       "Administrative_Duration    float64\n",
       "Informational                int64\n",
       "Informational_Duration     float64\n",
       "ProductRelated               int64\n",
       "ProductRelated_Duration    float64\n",
       "BounceRates                float64\n",
       "ExitRates                  float64\n",
       "PageValues                 float64\n",
       "SpecialDay                 float64\n",
       "Month                       object\n",
       "OperatingSystems             int64\n",
       "Browser                      int64\n",
       "Region                       int64\n",
       "TrafficType                  int64\n",
       "VisitorType                 object\n",
       "Weekend                       bool\n",
       "Revenue                       bool\n",
       "dtype: object"
      ]
     },
     "execution_count": 6,
     "metadata": {},
     "output_type": "execute_result"
    }
   ],
   "source": [
    "df.dtypes"
   ]
  },
  {
   "cell_type": "code",
   "execution_count": 7,
   "id": "effective-proposition",
   "metadata": {},
   "outputs": [],
   "source": [
    "dtypes = {\n",
    "    \"Month\": \"category\",\n",
    "    \"OperatingSystems\": \"category\",\n",
    "    \"Browser\": \"category\",\n",
    "    \"Region\": \"category\",\n",
    "    \"TrafficType\": \"category\",\n",
    "    \"VisitorType\": \"category\",\n",
    "    \"Weekend\": \"category\",\n",
    "    \"Revenue\": \"category\"\n",
    "}"
   ]
  },
  {
   "cell_type": "code",
   "execution_count": 8,
   "id": "suspended-privacy",
   "metadata": {},
   "outputs": [],
   "source": [
    "for col in df.columns:\n",
    "    if col in dtypes.keys():\n",
    "        df[col] = df[col].astype(dtypes[col])"
   ]
  },
  {
   "cell_type": "markdown",
   "id": "emotional-newspaper",
   "metadata": {},
   "source": [
    "## Exploratory Data Analysis"
   ]
  },
  {
   "cell_type": "markdown",
   "id": "coated-cornwall",
   "metadata": {},
   "source": [
    "Let's have a look at the shape of the data."
   ]
  },
  {
   "cell_type": "code",
   "execution_count": 9,
   "id": "connected-impression",
   "metadata": {},
   "outputs": [
    {
     "data": {
      "text/plain": [
       "(12330, 18)"
      ]
     },
     "execution_count": 9,
     "metadata": {},
     "output_type": "execute_result"
    }
   ],
   "source": [
    "df.shape"
   ]
  },
  {
   "cell_type": "markdown",
   "id": "coastal-principal",
   "metadata": {},
   "source": [
    "Next up, how clean is this data set?"
   ]
  },
  {
   "cell_type": "code",
   "execution_count": 10,
   "id": "advised-bernard",
   "metadata": {},
   "outputs": [
    {
     "data": {
      "text/plain": [
       "Administrative             0\n",
       "Administrative_Duration    0\n",
       "Informational              0\n",
       "Informational_Duration     0\n",
       "ProductRelated             0\n",
       "ProductRelated_Duration    0\n",
       "BounceRates                0\n",
       "ExitRates                  0\n",
       "PageValues                 0\n",
       "SpecialDay                 0\n",
       "Month                      0\n",
       "OperatingSystems           0\n",
       "Browser                    0\n",
       "Region                     0\n",
       "TrafficType                0\n",
       "VisitorType                0\n",
       "Weekend                    0\n",
       "Revenue                    0\n",
       "dtype: int64"
      ]
     },
     "execution_count": 10,
     "metadata": {},
     "output_type": "execute_result"
    }
   ],
   "source": [
    "df.isnull().sum()"
   ]
  },
  {
   "cell_type": "markdown",
   "id": "corrected-japanese",
   "metadata": {},
   "source": [
    "Now let's se how balanced this data is."
   ]
  },
  {
   "cell_type": "code",
   "execution_count": 11,
   "id": "resistant-namibia",
   "metadata": {},
   "outputs": [
    {
     "data": {
      "text/plain": [
       "False    0.845255\n",
       "True     0.154745\n",
       "Name: Revenue, dtype: float64"
      ]
     },
     "execution_count": 11,
     "metadata": {},
     "output_type": "execute_result"
    }
   ],
   "source": [
    "df[\"Revenue\"].value_counts(normalize=True)"
   ]
  },
  {
   "cell_type": "markdown",
   "id": "stretch-strap",
   "metadata": {},
   "source": [
    "Only 15% of the data set is of a positive class, therefore this would be classified as a moderately imbalanced data set. Data imbalances can be an issue for machine learning algorithms as they tend to have poor predictive performance for the minority class due to not enough signal, causing the machine learning model to tend towards the majority class, in this case negative (or no revenue). Later in this notebook we can use some upsampling techniques to balance this data out."
   ]
  },
  {
   "cell_type": "markdown",
   "id": "satisfied-panic",
   "metadata": {},
   "source": [
    "In the cell below we are creating pairplots for each of the numerical features to gauge some of the relationships that exist within the data set."
   ]
  },
  {
   "cell_type": "code",
   "execution_count": 12,
   "id": "neutral-black",
   "metadata": {},
   "outputs": [],
   "source": [
    "# sns.pairplot(df)\n",
    "# plt.show()"
   ]
  },
  {
   "cell_type": "markdown",
   "id": "absent-portrait",
   "metadata": {},
   "source": [
    "We can see straight away that most of the numerical features are highly positively skewed."
   ]
  },
  {
   "cell_type": "markdown",
   "id": "stuffed-turning",
   "metadata": {},
   "source": [
    "# Preprocessing"
   ]
  },
  {
   "cell_type": "markdown",
   "id": "identical-slave",
   "metadata": {},
   "source": [
    "## Scaling"
   ]
  },
  {
   "cell_type": "code",
   "execution_count": 13,
   "id": "jewish-zimbabwe",
   "metadata": {},
   "outputs": [],
   "source": [
    "scaler = StandardScaler()"
   ]
  },
  {
   "cell_type": "code",
   "execution_count": 14,
   "id": "promising-vacation",
   "metadata": {},
   "outputs": [],
   "source": [
    "cols = df.columns"
   ]
  },
  {
   "cell_type": "code",
   "execution_count": 15,
   "id": "changed-hearing",
   "metadata": {},
   "outputs": [],
   "source": [
    "numeric_cols = [col for col in df.columns if df[col].dtype.name in [\"int64\", \"float64\"]]\n",
    "cat_cols = [col for col in df.columns if col not in numeric_cols]"
   ]
  },
  {
   "cell_type": "code",
   "execution_count": 16,
   "id": "backed-helena",
   "metadata": {},
   "outputs": [],
   "source": [
    "df_scaled = pd.DataFrame(scaler.fit_transform(df[numeric_cols]), columns=numeric_cols)"
   ]
  },
  {
   "cell_type": "code",
   "execution_count": 17,
   "id": "removable-mirror",
   "metadata": {},
   "outputs": [],
   "source": [
    "df = pd.concat([df_scaled, df[cat_cols]], axis=1)"
   ]
  },
  {
   "cell_type": "markdown",
   "id": "wrapped-annex",
   "metadata": {},
   "source": [
    "## One Hot Encoding"
   ]
  },
  {
   "cell_type": "code",
   "execution_count": 18,
   "id": "transparent-subject",
   "metadata": {},
   "outputs": [],
   "source": [
    "df = pd.get_dummies(df)"
   ]
  },
  {
   "cell_type": "code",
   "execution_count": 19,
   "id": "irish-brooklyn",
   "metadata": {},
   "outputs": [],
   "source": [
    "df = df.drop(columns=[\"Revenue_False\", \"Weekend_False\"]).rename(columns={\"Revenue_True\": \"Revenue\", \"Weekend_True\": \"Weekend\"})"
   ]
  },
  {
   "cell_type": "code",
   "execution_count": 20,
   "id": "willing-vaccine",
   "metadata": {},
   "outputs": [
    {
     "data": {
      "text/html": [
       "<div>\n",
       "<style scoped>\n",
       "    .dataframe tbody tr th:only-of-type {\n",
       "        vertical-align: middle;\n",
       "    }\n",
       "\n",
       "    .dataframe tbody tr th {\n",
       "        vertical-align: top;\n",
       "    }\n",
       "\n",
       "    .dataframe thead th {\n",
       "        text-align: right;\n",
       "    }\n",
       "</style>\n",
       "<table border=\"1\" class=\"dataframe\">\n",
       "  <thead>\n",
       "    <tr style=\"text-align: right;\">\n",
       "      <th></th>\n",
       "      <th>Administrative</th>\n",
       "      <th>Administrative_Duration</th>\n",
       "      <th>Informational</th>\n",
       "      <th>Informational_Duration</th>\n",
       "      <th>ProductRelated</th>\n",
       "      <th>ProductRelated_Duration</th>\n",
       "      <th>BounceRates</th>\n",
       "      <th>ExitRates</th>\n",
       "      <th>PageValues</th>\n",
       "      <th>SpecialDay</th>\n",
       "      <th>...</th>\n",
       "      <th>TrafficType_16</th>\n",
       "      <th>TrafficType_17</th>\n",
       "      <th>TrafficType_18</th>\n",
       "      <th>TrafficType_19</th>\n",
       "      <th>TrafficType_20</th>\n",
       "      <th>VisitorType_New_Visitor</th>\n",
       "      <th>VisitorType_Other</th>\n",
       "      <th>VisitorType_Returning_Visitor</th>\n",
       "      <th>Weekend</th>\n",
       "      <th>Revenue</th>\n",
       "    </tr>\n",
       "  </thead>\n",
       "  <tbody>\n",
       "    <tr>\n",
       "      <th>0</th>\n",
       "      <td>-0.696993</td>\n",
       "      <td>-0.457191</td>\n",
       "      <td>-0.396478</td>\n",
       "      <td>-0.244931</td>\n",
       "      <td>-0.691003</td>\n",
       "      <td>-0.624348</td>\n",
       "      <td>3.667189</td>\n",
       "      <td>3.229316</td>\n",
       "      <td>-0.317178</td>\n",
       "      <td>-0.308821</td>\n",
       "      <td>...</td>\n",
       "      <td>0</td>\n",
       "      <td>0</td>\n",
       "      <td>0</td>\n",
       "      <td>0</td>\n",
       "      <td>0</td>\n",
       "      <td>0</td>\n",
       "      <td>0</td>\n",
       "      <td>1</td>\n",
       "      <td>0</td>\n",
       "      <td>0</td>\n",
       "    </tr>\n",
       "    <tr>\n",
       "      <th>1</th>\n",
       "      <td>-0.696993</td>\n",
       "      <td>-0.457191</td>\n",
       "      <td>-0.396478</td>\n",
       "      <td>-0.244931</td>\n",
       "      <td>-0.668518</td>\n",
       "      <td>-0.590903</td>\n",
       "      <td>-0.457683</td>\n",
       "      <td>1.171473</td>\n",
       "      <td>-0.317178</td>\n",
       "      <td>-0.308821</td>\n",
       "      <td>...</td>\n",
       "      <td>0</td>\n",
       "      <td>0</td>\n",
       "      <td>0</td>\n",
       "      <td>0</td>\n",
       "      <td>0</td>\n",
       "      <td>0</td>\n",
       "      <td>0</td>\n",
       "      <td>1</td>\n",
       "      <td>0</td>\n",
       "      <td>0</td>\n",
       "    </tr>\n",
       "    <tr>\n",
       "      <th>2</th>\n",
       "      <td>-0.696993</td>\n",
       "      <td>-0.457191</td>\n",
       "      <td>-0.396478</td>\n",
       "      <td>-0.244931</td>\n",
       "      <td>-0.691003</td>\n",
       "      <td>-0.624348</td>\n",
       "      <td>3.667189</td>\n",
       "      <td>3.229316</td>\n",
       "      <td>-0.317178</td>\n",
       "      <td>-0.308821</td>\n",
       "      <td>...</td>\n",
       "      <td>0</td>\n",
       "      <td>0</td>\n",
       "      <td>0</td>\n",
       "      <td>0</td>\n",
       "      <td>0</td>\n",
       "      <td>0</td>\n",
       "      <td>0</td>\n",
       "      <td>1</td>\n",
       "      <td>0</td>\n",
       "      <td>0</td>\n",
       "    </tr>\n",
       "    <tr>\n",
       "      <th>3</th>\n",
       "      <td>-0.696993</td>\n",
       "      <td>-0.457191</td>\n",
       "      <td>-0.396478</td>\n",
       "      <td>-0.244931</td>\n",
       "      <td>-0.668518</td>\n",
       "      <td>-0.622954</td>\n",
       "      <td>0.573535</td>\n",
       "      <td>1.994610</td>\n",
       "      <td>-0.317178</td>\n",
       "      <td>-0.308821</td>\n",
       "      <td>...</td>\n",
       "      <td>0</td>\n",
       "      <td>0</td>\n",
       "      <td>0</td>\n",
       "      <td>0</td>\n",
       "      <td>0</td>\n",
       "      <td>0</td>\n",
       "      <td>0</td>\n",
       "      <td>1</td>\n",
       "      <td>0</td>\n",
       "      <td>0</td>\n",
       "    </tr>\n",
       "    <tr>\n",
       "      <th>4</th>\n",
       "      <td>-0.696993</td>\n",
       "      <td>-0.457191</td>\n",
       "      <td>-0.396478</td>\n",
       "      <td>-0.244931</td>\n",
       "      <td>-0.488636</td>\n",
       "      <td>-0.296430</td>\n",
       "      <td>-0.045196</td>\n",
       "      <td>0.142551</td>\n",
       "      <td>-0.317178</td>\n",
       "      <td>-0.308821</td>\n",
       "      <td>...</td>\n",
       "      <td>0</td>\n",
       "      <td>0</td>\n",
       "      <td>0</td>\n",
       "      <td>0</td>\n",
       "      <td>0</td>\n",
       "      <td>0</td>\n",
       "      <td>0</td>\n",
       "      <td>1</td>\n",
       "      <td>1</td>\n",
       "      <td>0</td>\n",
       "    </tr>\n",
       "  </tbody>\n",
       "</table>\n",
       "<p>5 rows × 75 columns</p>\n",
       "</div>"
      ],
      "text/plain": [
       "   Administrative  Administrative_Duration  Informational  \\\n",
       "0       -0.696993                -0.457191      -0.396478   \n",
       "1       -0.696993                -0.457191      -0.396478   \n",
       "2       -0.696993                -0.457191      -0.396478   \n",
       "3       -0.696993                -0.457191      -0.396478   \n",
       "4       -0.696993                -0.457191      -0.396478   \n",
       "\n",
       "   Informational_Duration  ProductRelated  ProductRelated_Duration  \\\n",
       "0               -0.244931       -0.691003                -0.624348   \n",
       "1               -0.244931       -0.668518                -0.590903   \n",
       "2               -0.244931       -0.691003                -0.624348   \n",
       "3               -0.244931       -0.668518                -0.622954   \n",
       "4               -0.244931       -0.488636                -0.296430   \n",
       "\n",
       "   BounceRates  ExitRates  PageValues  SpecialDay  ...  TrafficType_16  \\\n",
       "0     3.667189   3.229316   -0.317178   -0.308821  ...               0   \n",
       "1    -0.457683   1.171473   -0.317178   -0.308821  ...               0   \n",
       "2     3.667189   3.229316   -0.317178   -0.308821  ...               0   \n",
       "3     0.573535   1.994610   -0.317178   -0.308821  ...               0   \n",
       "4    -0.045196   0.142551   -0.317178   -0.308821  ...               0   \n",
       "\n",
       "   TrafficType_17  TrafficType_18  TrafficType_19  TrafficType_20  \\\n",
       "0               0               0               0               0   \n",
       "1               0               0               0               0   \n",
       "2               0               0               0               0   \n",
       "3               0               0               0               0   \n",
       "4               0               0               0               0   \n",
       "\n",
       "   VisitorType_New_Visitor  VisitorType_Other  VisitorType_Returning_Visitor  \\\n",
       "0                        0                  0                              1   \n",
       "1                        0                  0                              1   \n",
       "2                        0                  0                              1   \n",
       "3                        0                  0                              1   \n",
       "4                        0                  0                              1   \n",
       "\n",
       "   Weekend  Revenue  \n",
       "0        0        0  \n",
       "1        0        0  \n",
       "2        0        0  \n",
       "3        0        0  \n",
       "4        1        0  \n",
       "\n",
       "[5 rows x 75 columns]"
      ]
     },
     "execution_count": 20,
     "metadata": {},
     "output_type": "execute_result"
    }
   ],
   "source": [
    "df.head()"
   ]
  },
  {
   "cell_type": "code",
   "execution_count": 21,
   "id": "explicit-kelly",
   "metadata": {},
   "outputs": [],
   "source": [
    "X = df.drop(columns=[\"Revenue\"])\n",
    "y = df[\"Revenue\"].astype(\"int64\")"
   ]
  },
  {
   "cell_type": "markdown",
   "id": "connected-option",
   "metadata": {},
   "source": [
    "## Train Test Split"
   ]
  },
  {
   "cell_type": "code",
   "execution_count": 22,
   "id": "finite-poultry",
   "metadata": {},
   "outputs": [],
   "source": [
    "X_train, X_test, y_train, y_test = train_test_split(X, y, test_size=0.2, random_state=42)"
   ]
  },
  {
   "cell_type": "markdown",
   "id": "introductory-snowboard",
   "metadata": {},
   "source": [
    "## Clustering"
   ]
  },
  {
   "cell_type": "markdown",
   "id": "rational-nirvana",
   "metadata": {},
   "source": [
    "### KMeans"
   ]
  },
  {
   "cell_type": "code",
   "execution_count": 23,
   "id": "warming-collaboration",
   "metadata": {},
   "outputs": [],
   "source": [
    "# squared_distances = list()\n",
    "# num_clu_range = range(2,50)\n",
    "# for n_clusters in num_clu_range:\n",
    "#     km = KMeans(n_clusters=n_clusters)\n",
    "#     km = km.fit(X_train)\n",
    "#     squared_distances.append(km.inertia_)"
   ]
  },
  {
   "cell_type": "code",
   "execution_count": 24,
   "id": "solved-elite",
   "metadata": {},
   "outputs": [],
   "source": [
    "# plt.figure(figsize=(14,8))\n",
    "# plt.plot(num_clu_range, squared_distances, 'ro-')\n",
    "# plt.xlabel('Num Clusters')\n",
    "# plt.ylabel('Sum of Squared Distances')\n",
    "# plt.title('Elbow Plot For Optimal Num Clusters')\n",
    "# plt.show()"
   ]
  },
  {
   "cell_type": "markdown",
   "id": "ahead-analysis",
   "metadata": {},
   "source": [
    "The elbow of this plot is at around 10 clusters, therefore we'll use this to generate our new `cluster` feature for the data set."
   ]
  },
  {
   "cell_type": "code",
   "execution_count": 25,
   "id": "international-sharing",
   "metadata": {},
   "outputs": [
    {
     "name": "stderr",
     "output_type": "stream",
     "text": [
      "/Users/ravimalde/.pyenv/versions/3.7.0/lib/python3.7/site-packages/ipykernel_launcher.py:3: SettingWithCopyWarning: \n",
      "A value is trying to be set on a copy of a slice from a DataFrame.\n",
      "Try using .loc[row_indexer,col_indexer] = value instead\n",
      "\n",
      "See the caveats in the documentation: https://pandas.pydata.org/pandas-docs/stable/user_guide/indexing.html#returning-a-view-versus-a-copy\n",
      "  This is separate from the ipykernel package so we can avoid doing imports until\n"
     ]
    }
   ],
   "source": [
    "km = KMeans(n_clusters=10)\n",
    "clusters = km.fit_predict(X_train)\n",
    "X_train[\"cluster_id\"] = clusters"
   ]
  },
  {
   "cell_type": "code",
   "execution_count": 26,
   "id": "loving-uncle",
   "metadata": {},
   "outputs": [
    {
     "data": {
      "text/plain": [
       "1    4143\n",
       "5    1408\n",
       "3    1364\n",
       "4     735\n",
       "2     672\n",
       "0     536\n",
       "9     412\n",
       "8     318\n",
       "6     176\n",
       "7     100\n",
       "Name: cluster_id, dtype: int64"
      ]
     },
     "execution_count": 26,
     "metadata": {},
     "output_type": "execute_result"
    }
   ],
   "source": [
    "X_train[\"cluster_id\"].value_counts()"
   ]
  },
  {
   "cell_type": "markdown",
   "id": "accompanied-chosen",
   "metadata": {},
   "source": [
    "### Agglomerative"
   ]
  },
  {
   "cell_type": "code",
   "execution_count": 80,
   "id": "approved-guitar",
   "metadata": {},
   "outputs": [
    {
     "name": "stdout",
     "output_type": "stream",
     "text": [
      "Beginning clustering with n_clusters=2\n",
      "Finished clustering with n_clusters=2\n",
      "Beginning clustering with n_clusters=4\n",
      "Finished clustering with n_clusters=4\n",
      "Beginning clustering with n_clusters=6\n",
      "Finished clustering with n_clusters=6\n",
      "Beginning clustering with n_clusters=8\n",
      "Finished clustering with n_clusters=8\n"
     ]
    }
   ],
   "source": [
    "squared_distances = list()\n",
    "num_clu_range = range(2,10,2)\n",
    "for n_clusters in num_clu_range:\n",
    "    print(f\"Beginning clustering with n_clusters={n_clusters}\")\n",
    "    ag = AgglomerativeClustering(n_clusters=n_clusters, compute_distances=True)\n",
    "    ag = ag.fit(X_train)\n",
    "    squared_distances.append(ag.distances_)\n",
    "    print(f\"Finished clustering with n_clusters={n_clusters}\")"
   ]
  },
  {
   "cell_type": "code",
   "execution_count": null,
   "id": "thirty-fusion",
   "metadata": {},
   "outputs": [],
   "source": [
    "plt.figure(figsize=(14,8))\n",
    "plt.plot(num_clu_range, squared_distances, 'ro-')\n",
    "plt.xlabel('Num Clusters')\n",
    "plt.ylabel('Sum of Squared Distances')\n",
    "plt.title('Elbow Plot For Optimal Num Clusters')\n",
    "plt.show()"
   ]
  },
  {
   "cell_type": "markdown",
   "id": "ultimate-central",
   "metadata": {},
   "source": [
    "## Upsampling"
   ]
  },
  {
   "cell_type": "code",
   "execution_count": 27,
   "id": "united-effects",
   "metadata": {},
   "outputs": [],
   "source": [
    "from imblearn.over_sampling import SMOTENC\n",
    "oversample = SMOTENC(categorical_features=[0,1], random_state=42)\n",
    "X_train, y_train = oversample.fit_resample(X_train, y_train)"
   ]
  },
  {
   "cell_type": "markdown",
   "id": "mechanical-smell",
   "metadata": {},
   "source": [
    "# Modelling"
   ]
  },
  {
   "cell_type": "code",
   "execution_count": 35,
   "id": "complicated-sunset",
   "metadata": {},
   "outputs": [],
   "source": [
    "from sklearn.model_selection import GridSearchCV\n",
    "from sklearn.tree import DecisionTreeClassifier"
   ]
  },
  {
   "cell_type": "code",
   "execution_count": 58,
   "id": "frozen-duncan",
   "metadata": {},
   "outputs": [],
   "source": [
    "params = {\"max_depth\": range(1, 100, 10), \"min_samples_leaf\": range(1, 100, 10)}"
   ]
  },
  {
   "cell_type": "code",
   "execution_count": 59,
   "id": "gorgeous-employment",
   "metadata": {},
   "outputs": [],
   "source": [
    "clf = GridSearchCV(DecisionTreeClassifier(), params, verbose=2)"
   ]
  },
  {
   "cell_type": "code",
   "execution_count": 60,
   "id": "random-judges",
   "metadata": {
    "scrolled": true,
    "tags": []
   },
   "outputs": [
    {
     "name": "stdout",
     "output_type": "stream",
     "text": [
      "Fitting 5 folds for each of 100 candidates, totalling 500 fits\n",
      "[CV] END ....................max_depth=1, min_samples_leaf=1; total time=   0.0s\n",
      "[CV] END ....................max_depth=1, min_samples_leaf=1; total time=   0.0s\n",
      "[CV] END ....................max_depth=1, min_samples_leaf=1; total time=   0.0s\n",
      "[CV] END ....................max_depth=1, min_samples_leaf=1; total time=   0.0s\n",
      "[CV] END ....................max_depth=1, min_samples_leaf=1; total time=   0.0s\n",
      "[CV] END ...................max_depth=1, min_samples_leaf=11; total time=   0.0s\n",
      "[CV] END ...................max_depth=1, min_samples_leaf=11; total time=   0.0s\n",
      "[CV] END ...................max_depth=1, min_samples_leaf=11; total time=   0.0s\n",
      "[CV] END ...................max_depth=1, min_samples_leaf=11; total time=   0.0s\n",
      "[CV] END ...................max_depth=1, min_samples_leaf=11; total time=   0.0s\n",
      "[CV] END ...................max_depth=1, min_samples_leaf=21; total time=   0.0s\n",
      "[CV] END ...................max_depth=1, min_samples_leaf=21; total time=   0.0s\n",
      "[CV] END ...................max_depth=1, min_samples_leaf=21; total time=   0.0s\n",
      "[CV] END ...................max_depth=1, min_samples_leaf=21; total time=   0.0s\n",
      "[CV] END ...................max_depth=1, min_samples_leaf=21; total time=   0.0s\n",
      "[CV] END ...................max_depth=1, min_samples_leaf=31; total time=   0.0s\n",
      "[CV] END ...................max_depth=1, min_samples_leaf=31; total time=   0.0s\n",
      "[CV] END ...................max_depth=1, min_samples_leaf=31; total time=   0.0s\n",
      "[CV] END ...................max_depth=1, min_samples_leaf=31; total time=   0.0s\n",
      "[CV] END ...................max_depth=1, min_samples_leaf=31; total time=   0.0s\n",
      "[CV] END ...................max_depth=1, min_samples_leaf=41; total time=   0.0s\n",
      "[CV] END ...................max_depth=1, min_samples_leaf=41; total time=   0.0s\n",
      "[CV] END ...................max_depth=1, min_samples_leaf=41; total time=   0.0s\n",
      "[CV] END ...................max_depth=1, min_samples_leaf=41; total time=   0.0s\n",
      "[CV] END ...................max_depth=1, min_samples_leaf=41; total time=   0.0s\n",
      "[CV] END ...................max_depth=1, min_samples_leaf=51; total time=   0.0s\n",
      "[CV] END ...................max_depth=1, min_samples_leaf=51; total time=   0.0s\n",
      "[CV] END ...................max_depth=1, min_samples_leaf=51; total time=   0.0s\n",
      "[CV] END ...................max_depth=1, min_samples_leaf=51; total time=   0.0s\n",
      "[CV] END ...................max_depth=1, min_samples_leaf=51; total time=   0.0s\n",
      "[CV] END ...................max_depth=1, min_samples_leaf=61; total time=   0.0s\n",
      "[CV] END ...................max_depth=1, min_samples_leaf=61; total time=   0.0s\n",
      "[CV] END ...................max_depth=1, min_samples_leaf=61; total time=   0.0s\n",
      "[CV] END ...................max_depth=1, min_samples_leaf=61; total time=   0.0s\n",
      "[CV] END ...................max_depth=1, min_samples_leaf=61; total time=   0.0s\n",
      "[CV] END ...................max_depth=1, min_samples_leaf=71; total time=   0.0s\n",
      "[CV] END ...................max_depth=1, min_samples_leaf=71; total time=   0.0s\n",
      "[CV] END ...................max_depth=1, min_samples_leaf=71; total time=   0.0s\n",
      "[CV] END ...................max_depth=1, min_samples_leaf=71; total time=   0.0s\n",
      "[CV] END ...................max_depth=1, min_samples_leaf=71; total time=   0.0s\n",
      "[CV] END ...................max_depth=1, min_samples_leaf=81; total time=   0.0s\n",
      "[CV] END ...................max_depth=1, min_samples_leaf=81; total time=   0.0s\n",
      "[CV] END ...................max_depth=1, min_samples_leaf=81; total time=   0.0s\n",
      "[CV] END ...................max_depth=1, min_samples_leaf=81; total time=   0.0s\n",
      "[CV] END ...................max_depth=1, min_samples_leaf=81; total time=   0.0s\n",
      "[CV] END ...................max_depth=1, min_samples_leaf=91; total time=   0.0s\n",
      "[CV] END ...................max_depth=1, min_samples_leaf=91; total time=   0.0s\n",
      "[CV] END ...................max_depth=1, min_samples_leaf=91; total time=   0.0s\n",
      "[CV] END ...................max_depth=1, min_samples_leaf=91; total time=   0.0s\n",
      "[CV] END ...................max_depth=1, min_samples_leaf=91; total time=   0.0s\n",
      "[CV] END ...................max_depth=11, min_samples_leaf=1; total time=   0.1s\n",
      "[CV] END ...................max_depth=11, min_samples_leaf=1; total time=   0.1s\n",
      "[CV] END ...................max_depth=11, min_samples_leaf=1; total time=   0.1s\n",
      "[CV] END ...................max_depth=11, min_samples_leaf=1; total time=   0.1s\n",
      "[CV] END ...................max_depth=11, min_samples_leaf=1; total time=   0.1s\n",
      "[CV] END ..................max_depth=11, min_samples_leaf=11; total time=   0.1s\n",
      "[CV] END ..................max_depth=11, min_samples_leaf=11; total time=   0.1s\n",
      "[CV] END ..................max_depth=11, min_samples_leaf=11; total time=   0.1s\n",
      "[CV] END ..................max_depth=11, min_samples_leaf=11; total time=   0.1s\n",
      "[CV] END ..................max_depth=11, min_samples_leaf=11; total time=   0.1s\n",
      "[CV] END ..................max_depth=11, min_samples_leaf=21; total time=   0.1s\n",
      "[CV] END ..................max_depth=11, min_samples_leaf=21; total time=   0.1s\n",
      "[CV] END ..................max_depth=11, min_samples_leaf=21; total time=   0.1s\n",
      "[CV] END ..................max_depth=11, min_samples_leaf=21; total time=   0.1s\n",
      "[CV] END ..................max_depth=11, min_samples_leaf=21; total time=   0.1s\n",
      "[CV] END ..................max_depth=11, min_samples_leaf=31; total time=   0.1s\n",
      "[CV] END ..................max_depth=11, min_samples_leaf=31; total time=   0.1s\n",
      "[CV] END ..................max_depth=11, min_samples_leaf=31; total time=   0.1s\n",
      "[CV] END ..................max_depth=11, min_samples_leaf=31; total time=   0.1s\n",
      "[CV] END ..................max_depth=11, min_samples_leaf=31; total time=   0.1s\n",
      "[CV] END ..................max_depth=11, min_samples_leaf=41; total time=   0.1s\n",
      "[CV] END ..................max_depth=11, min_samples_leaf=41; total time=   0.1s\n",
      "[CV] END ..................max_depth=11, min_samples_leaf=41; total time=   0.1s\n",
      "[CV] END ..................max_depth=11, min_samples_leaf=41; total time=   0.1s\n",
      "[CV] END ..................max_depth=11, min_samples_leaf=41; total time=   0.1s\n",
      "[CV] END ..................max_depth=11, min_samples_leaf=51; total time=   0.1s\n",
      "[CV] END ..................max_depth=11, min_samples_leaf=51; total time=   0.1s\n",
      "[CV] END ..................max_depth=11, min_samples_leaf=51; total time=   0.1s\n",
      "[CV] END ..................max_depth=11, min_samples_leaf=51; total time=   0.1s\n",
      "[CV] END ..................max_depth=11, min_samples_leaf=51; total time=   0.1s\n",
      "[CV] END ..................max_depth=11, min_samples_leaf=61; total time=   0.1s\n",
      "[CV] END ..................max_depth=11, min_samples_leaf=61; total time=   0.1s\n",
      "[CV] END ..................max_depth=11, min_samples_leaf=61; total time=   0.1s\n",
      "[CV] END ..................max_depth=11, min_samples_leaf=61; total time=   0.1s\n",
      "[CV] END ..................max_depth=11, min_samples_leaf=61; total time=   0.1s\n",
      "[CV] END ..................max_depth=11, min_samples_leaf=71; total time=   0.1s\n",
      "[CV] END ..................max_depth=11, min_samples_leaf=71; total time=   0.1s\n",
      "[CV] END ..................max_depth=11, min_samples_leaf=71; total time=   0.1s\n",
      "[CV] END ..................max_depth=11, min_samples_leaf=71; total time=   0.1s\n",
      "[CV] END ..................max_depth=11, min_samples_leaf=71; total time=   0.1s\n",
      "[CV] END ..................max_depth=11, min_samples_leaf=81; total time=   0.1s\n",
      "[CV] END ..................max_depth=11, min_samples_leaf=81; total time=   0.1s\n",
      "[CV] END ..................max_depth=11, min_samples_leaf=81; total time=   0.1s\n",
      "[CV] END ..................max_depth=11, min_samples_leaf=81; total time=   0.1s\n",
      "[CV] END ..................max_depth=11, min_samples_leaf=81; total time=   0.1s\n",
      "[CV] END ..................max_depth=11, min_samples_leaf=91; total time=   0.1s\n",
      "[CV] END ..................max_depth=11, min_samples_leaf=91; total time=   0.1s\n",
      "[CV] END ..................max_depth=11, min_samples_leaf=91; total time=   0.1s\n",
      "[CV] END ..................max_depth=11, min_samples_leaf=91; total time=   0.1s\n",
      "[CV] END ..................max_depth=11, min_samples_leaf=91; total time=   0.1s\n",
      "[CV] END ...................max_depth=21, min_samples_leaf=1; total time=   0.1s\n",
      "[CV] END ...................max_depth=21, min_samples_leaf=1; total time=   0.1s\n",
      "[CV] END ...................max_depth=21, min_samples_leaf=1; total time=   0.1s\n",
      "[CV] END ...................max_depth=21, min_samples_leaf=1; total time=   0.1s\n",
      "[CV] END ...................max_depth=21, min_samples_leaf=1; total time=   0.1s\n",
      "[CV] END ..................max_depth=21, min_samples_leaf=11; total time=   0.1s\n",
      "[CV] END ..................max_depth=21, min_samples_leaf=11; total time=   0.1s\n",
      "[CV] END ..................max_depth=21, min_samples_leaf=11; total time=   0.1s\n",
      "[CV] END ..................max_depth=21, min_samples_leaf=11; total time=   0.1s\n",
      "[CV] END ..................max_depth=21, min_samples_leaf=11; total time=   0.1s\n",
      "[CV] END ..................max_depth=21, min_samples_leaf=21; total time=   0.1s\n",
      "[CV] END ..................max_depth=21, min_samples_leaf=21; total time=   0.1s\n",
      "[CV] END ..................max_depth=21, min_samples_leaf=21; total time=   0.1s\n",
      "[CV] END ..................max_depth=21, min_samples_leaf=21; total time=   0.1s\n",
      "[CV] END ..................max_depth=21, min_samples_leaf=21; total time=   0.1s\n",
      "[CV] END ..................max_depth=21, min_samples_leaf=31; total time=   0.1s\n",
      "[CV] END ..................max_depth=21, min_samples_leaf=31; total time=   0.1s\n",
      "[CV] END ..................max_depth=21, min_samples_leaf=31; total time=   0.1s\n",
      "[CV] END ..................max_depth=21, min_samples_leaf=31; total time=   0.1s\n",
      "[CV] END ..................max_depth=21, min_samples_leaf=31; total time=   0.1s\n",
      "[CV] END ..................max_depth=21, min_samples_leaf=41; total time=   0.1s\n",
      "[CV] END ..................max_depth=21, min_samples_leaf=41; total time=   0.1s\n",
      "[CV] END ..................max_depth=21, min_samples_leaf=41; total time=   0.1s\n",
      "[CV] END ..................max_depth=21, min_samples_leaf=41; total time=   0.1s\n",
      "[CV] END ..................max_depth=21, min_samples_leaf=41; total time=   0.1s\n",
      "[CV] END ..................max_depth=21, min_samples_leaf=51; total time=   0.1s\n",
      "[CV] END ..................max_depth=21, min_samples_leaf=51; total time=   0.1s\n",
      "[CV] END ..................max_depth=21, min_samples_leaf=51; total time=   0.1s\n",
      "[CV] END ..................max_depth=21, min_samples_leaf=51; total time=   0.1s\n",
      "[CV] END ..................max_depth=21, min_samples_leaf=51; total time=   0.1s\n",
      "[CV] END ..................max_depth=21, min_samples_leaf=61; total time=   0.1s\n",
      "[CV] END ..................max_depth=21, min_samples_leaf=61; total time=   0.1s\n",
      "[CV] END ..................max_depth=21, min_samples_leaf=61; total time=   0.1s\n",
      "[CV] END ..................max_depth=21, min_samples_leaf=61; total time=   0.1s\n",
      "[CV] END ..................max_depth=21, min_samples_leaf=61; total time=   0.1s\n",
      "[CV] END ..................max_depth=21, min_samples_leaf=71; total time=   0.1s\n",
      "[CV] END ..................max_depth=21, min_samples_leaf=71; total time=   0.1s\n",
      "[CV] END ..................max_depth=21, min_samples_leaf=71; total time=   0.1s\n",
      "[CV] END ..................max_depth=21, min_samples_leaf=71; total time=   0.1s\n",
      "[CV] END ..................max_depth=21, min_samples_leaf=71; total time=   0.1s\n",
      "[CV] END ..................max_depth=21, min_samples_leaf=81; total time=   0.1s\n",
      "[CV] END ..................max_depth=21, min_samples_leaf=81; total time=   0.1s\n",
      "[CV] END ..................max_depth=21, min_samples_leaf=81; total time=   0.1s\n",
      "[CV] END ..................max_depth=21, min_samples_leaf=81; total time=   0.1s\n",
      "[CV] END ..................max_depth=21, min_samples_leaf=81; total time=   0.1s\n",
      "[CV] END ..................max_depth=21, min_samples_leaf=91; total time=   0.1s\n",
      "[CV] END ..................max_depth=21, min_samples_leaf=91; total time=   0.1s\n",
      "[CV] END ..................max_depth=21, min_samples_leaf=91; total time=   0.1s\n",
      "[CV] END ..................max_depth=21, min_samples_leaf=91; total time=   0.1s\n",
      "[CV] END ..................max_depth=21, min_samples_leaf=91; total time=   0.1s\n",
      "[CV] END ...................max_depth=31, min_samples_leaf=1; total time=   0.2s\n",
      "[CV] END ...................max_depth=31, min_samples_leaf=1; total time=   0.1s\n",
      "[CV] END ...................max_depth=31, min_samples_leaf=1; total time=   0.1s\n",
      "[CV] END ...................max_depth=31, min_samples_leaf=1; total time=   0.1s\n",
      "[CV] END ...................max_depth=31, min_samples_leaf=1; total time=   0.2s\n",
      "[CV] END ..................max_depth=31, min_samples_leaf=11; total time=   0.1s\n",
      "[CV] END ..................max_depth=31, min_samples_leaf=11; total time=   0.1s\n",
      "[CV] END ..................max_depth=31, min_samples_leaf=11; total time=   0.1s\n",
      "[CV] END ..................max_depth=31, min_samples_leaf=11; total time=   0.1s\n",
      "[CV] END ..................max_depth=31, min_samples_leaf=11; total time=   0.1s\n",
      "[CV] END ..................max_depth=31, min_samples_leaf=21; total time=   0.1s\n",
      "[CV] END ..................max_depth=31, min_samples_leaf=21; total time=   0.1s\n",
      "[CV] END ..................max_depth=31, min_samples_leaf=21; total time=   0.1s\n",
      "[CV] END ..................max_depth=31, min_samples_leaf=21; total time=   0.1s\n",
      "[CV] END ..................max_depth=31, min_samples_leaf=21; total time=   0.1s\n",
      "[CV] END ..................max_depth=31, min_samples_leaf=31; total time=   0.1s\n",
      "[CV] END ..................max_depth=31, min_samples_leaf=31; total time=   0.1s\n",
      "[CV] END ..................max_depth=31, min_samples_leaf=31; total time=   0.1s\n",
      "[CV] END ..................max_depth=31, min_samples_leaf=31; total time=   0.1s\n",
      "[CV] END ..................max_depth=31, min_samples_leaf=31; total time=   0.1s\n",
      "[CV] END ..................max_depth=31, min_samples_leaf=41; total time=   0.1s\n",
      "[CV] END ..................max_depth=31, min_samples_leaf=41; total time=   0.1s\n",
      "[CV] END ..................max_depth=31, min_samples_leaf=41; total time=   0.1s\n",
      "[CV] END ..................max_depth=31, min_samples_leaf=41; total time=   0.1s\n",
      "[CV] END ..................max_depth=31, min_samples_leaf=41; total time=   0.1s\n",
      "[CV] END ..................max_depth=31, min_samples_leaf=51; total time=   0.1s\n",
      "[CV] END ..................max_depth=31, min_samples_leaf=51; total time=   0.1s\n",
      "[CV] END ..................max_depth=31, min_samples_leaf=51; total time=   0.1s\n",
      "[CV] END ..................max_depth=31, min_samples_leaf=51; total time=   0.1s\n",
      "[CV] END ..................max_depth=31, min_samples_leaf=51; total time=   0.1s\n",
      "[CV] END ..................max_depth=31, min_samples_leaf=61; total time=   0.1s\n",
      "[CV] END ..................max_depth=31, min_samples_leaf=61; total time=   0.1s\n",
      "[CV] END ..................max_depth=31, min_samples_leaf=61; total time=   0.1s\n",
      "[CV] END ..................max_depth=31, min_samples_leaf=61; total time=   0.1s\n",
      "[CV] END ..................max_depth=31, min_samples_leaf=61; total time=   0.1s\n",
      "[CV] END ..................max_depth=31, min_samples_leaf=71; total time=   0.1s\n",
      "[CV] END ..................max_depth=31, min_samples_leaf=71; total time=   0.1s\n",
      "[CV] END ..................max_depth=31, min_samples_leaf=71; total time=   0.1s\n",
      "[CV] END ..................max_depth=31, min_samples_leaf=71; total time=   0.1s\n",
      "[CV] END ..................max_depth=31, min_samples_leaf=71; total time=   0.1s\n",
      "[CV] END ..................max_depth=31, min_samples_leaf=81; total time=   0.1s\n",
      "[CV] END ..................max_depth=31, min_samples_leaf=81; total time=   0.1s\n",
      "[CV] END ..................max_depth=31, min_samples_leaf=81; total time=   0.1s\n",
      "[CV] END ..................max_depth=31, min_samples_leaf=81; total time=   0.1s\n",
      "[CV] END ..................max_depth=31, min_samples_leaf=81; total time=   0.1s\n",
      "[CV] END ..................max_depth=31, min_samples_leaf=91; total time=   0.1s\n",
      "[CV] END ..................max_depth=31, min_samples_leaf=91; total time=   0.1s\n",
      "[CV] END ..................max_depth=31, min_samples_leaf=91; total time=   0.1s\n",
      "[CV] END ..................max_depth=31, min_samples_leaf=91; total time=   0.1s\n",
      "[CV] END ..................max_depth=31, min_samples_leaf=91; total time=   0.1s\n",
      "[CV] END ...................max_depth=41, min_samples_leaf=1; total time=   0.2s\n",
      "[CV] END ...................max_depth=41, min_samples_leaf=1; total time=   0.1s\n",
      "[CV] END ...................max_depth=41, min_samples_leaf=1; total time=   0.1s\n",
      "[CV] END ...................max_depth=41, min_samples_leaf=1; total time=   0.1s\n",
      "[CV] END ...................max_depth=41, min_samples_leaf=1; total time=   0.1s\n",
      "[CV] END ..................max_depth=41, min_samples_leaf=11; total time=   0.1s\n",
      "[CV] END ..................max_depth=41, min_samples_leaf=11; total time=   0.1s\n",
      "[CV] END ..................max_depth=41, min_samples_leaf=11; total time=   0.1s\n",
      "[CV] END ..................max_depth=41, min_samples_leaf=11; total time=   0.1s\n",
      "[CV] END ..................max_depth=41, min_samples_leaf=11; total time=   0.1s\n",
      "[CV] END ..................max_depth=41, min_samples_leaf=21; total time=   0.1s\n",
      "[CV] END ..................max_depth=41, min_samples_leaf=21; total time=   0.1s\n",
      "[CV] END ..................max_depth=41, min_samples_leaf=21; total time=   0.1s\n",
      "[CV] END ..................max_depth=41, min_samples_leaf=21; total time=   0.1s\n",
      "[CV] END ..................max_depth=41, min_samples_leaf=21; total time=   0.1s\n",
      "[CV] END ..................max_depth=41, min_samples_leaf=31; total time=   0.1s\n",
      "[CV] END ..................max_depth=41, min_samples_leaf=31; total time=   0.1s\n",
      "[CV] END ..................max_depth=41, min_samples_leaf=31; total time=   0.1s\n",
      "[CV] END ..................max_depth=41, min_samples_leaf=31; total time=   0.1s\n",
      "[CV] END ..................max_depth=41, min_samples_leaf=31; total time=   0.1s\n",
      "[CV] END ..................max_depth=41, min_samples_leaf=41; total time=   0.1s\n",
      "[CV] END ..................max_depth=41, min_samples_leaf=41; total time=   0.1s\n",
      "[CV] END ..................max_depth=41, min_samples_leaf=41; total time=   0.1s\n",
      "[CV] END ..................max_depth=41, min_samples_leaf=41; total time=   0.1s\n",
      "[CV] END ..................max_depth=41, min_samples_leaf=41; total time=   0.1s\n",
      "[CV] END ..................max_depth=41, min_samples_leaf=51; total time=   0.1s\n",
      "[CV] END ..................max_depth=41, min_samples_leaf=51; total time=   0.1s\n",
      "[CV] END ..................max_depth=41, min_samples_leaf=51; total time=   0.1s\n",
      "[CV] END ..................max_depth=41, min_samples_leaf=51; total time=   0.1s\n",
      "[CV] END ..................max_depth=41, min_samples_leaf=51; total time=   0.1s\n",
      "[CV] END ..................max_depth=41, min_samples_leaf=61; total time=   0.1s\n",
      "[CV] END ..................max_depth=41, min_samples_leaf=61; total time=   0.1s\n",
      "[CV] END ..................max_depth=41, min_samples_leaf=61; total time=   0.1s\n",
      "[CV] END ..................max_depth=41, min_samples_leaf=61; total time=   0.1s\n",
      "[CV] END ..................max_depth=41, min_samples_leaf=61; total time=   0.1s\n",
      "[CV] END ..................max_depth=41, min_samples_leaf=71; total time=   0.1s\n",
      "[CV] END ..................max_depth=41, min_samples_leaf=71; total time=   0.1s\n",
      "[CV] END ..................max_depth=41, min_samples_leaf=71; total time=   0.1s\n",
      "[CV] END ..................max_depth=41, min_samples_leaf=71; total time=   0.1s\n",
      "[CV] END ..................max_depth=41, min_samples_leaf=71; total time=   0.1s\n",
      "[CV] END ..................max_depth=41, min_samples_leaf=81; total time=   0.1s\n",
      "[CV] END ..................max_depth=41, min_samples_leaf=81; total time=   0.1s\n",
      "[CV] END ..................max_depth=41, min_samples_leaf=81; total time=   0.1s\n",
      "[CV] END ..................max_depth=41, min_samples_leaf=81; total time=   0.1s\n",
      "[CV] END ..................max_depth=41, min_samples_leaf=81; total time=   0.1s\n",
      "[CV] END ..................max_depth=41, min_samples_leaf=91; total time=   0.1s\n",
      "[CV] END ..................max_depth=41, min_samples_leaf=91; total time=   0.1s\n",
      "[CV] END ..................max_depth=41, min_samples_leaf=91; total time=   0.1s\n",
      "[CV] END ..................max_depth=41, min_samples_leaf=91; total time=   0.1s\n",
      "[CV] END ..................max_depth=41, min_samples_leaf=91; total time=   0.1s\n",
      "[CV] END ...................max_depth=51, min_samples_leaf=1; total time=   0.2s\n",
      "[CV] END ...................max_depth=51, min_samples_leaf=1; total time=   0.1s\n",
      "[CV] END ...................max_depth=51, min_samples_leaf=1; total time=   0.1s\n",
      "[CV] END ...................max_depth=51, min_samples_leaf=1; total time=   0.1s\n",
      "[CV] END ...................max_depth=51, min_samples_leaf=1; total time=   0.1s\n",
      "[CV] END ..................max_depth=51, min_samples_leaf=11; total time=   0.1s\n",
      "[CV] END ..................max_depth=51, min_samples_leaf=11; total time=   0.1s\n",
      "[CV] END ..................max_depth=51, min_samples_leaf=11; total time=   0.1s\n",
      "[CV] END ..................max_depth=51, min_samples_leaf=11; total time=   0.1s\n",
      "[CV] END ..................max_depth=51, min_samples_leaf=11; total time=   0.1s\n",
      "[CV] END ..................max_depth=51, min_samples_leaf=21; total time=   0.1s\n",
      "[CV] END ..................max_depth=51, min_samples_leaf=21; total time=   0.1s\n",
      "[CV] END ..................max_depth=51, min_samples_leaf=21; total time=   0.1s\n",
      "[CV] END ..................max_depth=51, min_samples_leaf=21; total time=   0.1s\n",
      "[CV] END ..................max_depth=51, min_samples_leaf=21; total time=   0.1s\n",
      "[CV] END ..................max_depth=51, min_samples_leaf=31; total time=   0.1s\n",
      "[CV] END ..................max_depth=51, min_samples_leaf=31; total time=   0.1s\n",
      "[CV] END ..................max_depth=51, min_samples_leaf=31; total time=   0.1s\n",
      "[CV] END ..................max_depth=51, min_samples_leaf=31; total time=   0.1s\n",
      "[CV] END ..................max_depth=51, min_samples_leaf=31; total time=   0.1s\n",
      "[CV] END ..................max_depth=51, min_samples_leaf=41; total time=   0.1s\n",
      "[CV] END ..................max_depth=51, min_samples_leaf=41; total time=   0.1s\n",
      "[CV] END ..................max_depth=51, min_samples_leaf=41; total time=   0.1s\n",
      "[CV] END ..................max_depth=51, min_samples_leaf=41; total time=   0.1s\n",
      "[CV] END ..................max_depth=51, min_samples_leaf=41; total time=   0.1s\n",
      "[CV] END ..................max_depth=51, min_samples_leaf=51; total time=   0.1s\n",
      "[CV] END ..................max_depth=51, min_samples_leaf=51; total time=   0.1s\n",
      "[CV] END ..................max_depth=51, min_samples_leaf=51; total time=   0.1s\n",
      "[CV] END ..................max_depth=51, min_samples_leaf=51; total time=   0.1s\n",
      "[CV] END ..................max_depth=51, min_samples_leaf=51; total time=   0.1s\n",
      "[CV] END ..................max_depth=51, min_samples_leaf=61; total time=   0.1s\n",
      "[CV] END ..................max_depth=51, min_samples_leaf=61; total time=   0.1s\n",
      "[CV] END ..................max_depth=51, min_samples_leaf=61; total time=   0.1s\n",
      "[CV] END ..................max_depth=51, min_samples_leaf=61; total time=   0.1s\n",
      "[CV] END ..................max_depth=51, min_samples_leaf=61; total time=   0.1s\n",
      "[CV] END ..................max_depth=51, min_samples_leaf=71; total time=   0.1s\n",
      "[CV] END ..................max_depth=51, min_samples_leaf=71; total time=   0.1s\n",
      "[CV] END ..................max_depth=51, min_samples_leaf=71; total time=   0.1s\n",
      "[CV] END ..................max_depth=51, min_samples_leaf=71; total time=   0.1s\n",
      "[CV] END ..................max_depth=51, min_samples_leaf=71; total time=   0.1s\n",
      "[CV] END ..................max_depth=51, min_samples_leaf=81; total time=   0.1s\n",
      "[CV] END ..................max_depth=51, min_samples_leaf=81; total time=   0.1s\n",
      "[CV] END ..................max_depth=51, min_samples_leaf=81; total time=   0.1s\n",
      "[CV] END ..................max_depth=51, min_samples_leaf=81; total time=   0.1s\n",
      "[CV] END ..................max_depth=51, min_samples_leaf=81; total time=   0.1s\n",
      "[CV] END ..................max_depth=51, min_samples_leaf=91; total time=   0.1s\n",
      "[CV] END ..................max_depth=51, min_samples_leaf=91; total time=   0.1s\n",
      "[CV] END ..................max_depth=51, min_samples_leaf=91; total time=   0.1s\n",
      "[CV] END ..................max_depth=51, min_samples_leaf=91; total time=   0.1s\n",
      "[CV] END ..................max_depth=51, min_samples_leaf=91; total time=   0.1s\n",
      "[CV] END ...................max_depth=61, min_samples_leaf=1; total time=   0.1s\n",
      "[CV] END ...................max_depth=61, min_samples_leaf=1; total time=   0.1s\n",
      "[CV] END ...................max_depth=61, min_samples_leaf=1; total time=   0.1s\n",
      "[CV] END ...................max_depth=61, min_samples_leaf=1; total time=   0.1s\n",
      "[CV] END ...................max_depth=61, min_samples_leaf=1; total time=   0.1s\n",
      "[CV] END ..................max_depth=61, min_samples_leaf=11; total time=   0.1s\n",
      "[CV] END ..................max_depth=61, min_samples_leaf=11; total time=   0.1s\n",
      "[CV] END ..................max_depth=61, min_samples_leaf=11; total time=   0.1s\n",
      "[CV] END ..................max_depth=61, min_samples_leaf=11; total time=   0.1s\n",
      "[CV] END ..................max_depth=61, min_samples_leaf=11; total time=   0.1s\n",
      "[CV] END ..................max_depth=61, min_samples_leaf=21; total time=   0.1s\n",
      "[CV] END ..................max_depth=61, min_samples_leaf=21; total time=   0.1s\n",
      "[CV] END ..................max_depth=61, min_samples_leaf=21; total time=   0.1s\n",
      "[CV] END ..................max_depth=61, min_samples_leaf=21; total time=   0.1s\n",
      "[CV] END ..................max_depth=61, min_samples_leaf=21; total time=   0.1s\n",
      "[CV] END ..................max_depth=61, min_samples_leaf=31; total time=   0.1s\n",
      "[CV] END ..................max_depth=61, min_samples_leaf=31; total time=   0.1s\n",
      "[CV] END ..................max_depth=61, min_samples_leaf=31; total time=   0.1s\n",
      "[CV] END ..................max_depth=61, min_samples_leaf=31; total time=   0.1s\n",
      "[CV] END ..................max_depth=61, min_samples_leaf=31; total time=   0.1s\n",
      "[CV] END ..................max_depth=61, min_samples_leaf=41; total time=   0.1s\n",
      "[CV] END ..................max_depth=61, min_samples_leaf=41; total time=   0.1s\n",
      "[CV] END ..................max_depth=61, min_samples_leaf=41; total time=   0.1s\n",
      "[CV] END ..................max_depth=61, min_samples_leaf=41; total time=   0.1s\n",
      "[CV] END ..................max_depth=61, min_samples_leaf=41; total time=   0.1s\n",
      "[CV] END ..................max_depth=61, min_samples_leaf=51; total time=   0.1s\n",
      "[CV] END ..................max_depth=61, min_samples_leaf=51; total time=   0.1s\n",
      "[CV] END ..................max_depth=61, min_samples_leaf=51; total time=   0.1s\n",
      "[CV] END ..................max_depth=61, min_samples_leaf=51; total time=   0.1s\n",
      "[CV] END ..................max_depth=61, min_samples_leaf=51; total time=   0.1s\n",
      "[CV] END ..................max_depth=61, min_samples_leaf=61; total time=   0.1s\n",
      "[CV] END ..................max_depth=61, min_samples_leaf=61; total time=   0.1s\n",
      "[CV] END ..................max_depth=61, min_samples_leaf=61; total time=   0.1s\n",
      "[CV] END ..................max_depth=61, min_samples_leaf=61; total time=   0.1s\n",
      "[CV] END ..................max_depth=61, min_samples_leaf=61; total time=   0.1s\n",
      "[CV] END ..................max_depth=61, min_samples_leaf=71; total time=   0.1s\n",
      "[CV] END ..................max_depth=61, min_samples_leaf=71; total time=   0.1s\n",
      "[CV] END ..................max_depth=61, min_samples_leaf=71; total time=   0.1s\n",
      "[CV] END ..................max_depth=61, min_samples_leaf=71; total time=   0.1s\n",
      "[CV] END ..................max_depth=61, min_samples_leaf=71; total time=   0.1s\n",
      "[CV] END ..................max_depth=61, min_samples_leaf=81; total time=   0.1s\n",
      "[CV] END ..................max_depth=61, min_samples_leaf=81; total time=   0.1s\n",
      "[CV] END ..................max_depth=61, min_samples_leaf=81; total time=   0.1s\n",
      "[CV] END ..................max_depth=61, min_samples_leaf=81; total time=   0.1s\n",
      "[CV] END ..................max_depth=61, min_samples_leaf=81; total time=   0.1s\n",
      "[CV] END ..................max_depth=61, min_samples_leaf=91; total time=   0.1s\n",
      "[CV] END ..................max_depth=61, min_samples_leaf=91; total time=   0.1s\n",
      "[CV] END ..................max_depth=61, min_samples_leaf=91; total time=   0.1s\n",
      "[CV] END ..................max_depth=61, min_samples_leaf=91; total time=   0.1s\n",
      "[CV] END ..................max_depth=61, min_samples_leaf=91; total time=   0.1s\n",
      "[CV] END ...................max_depth=71, min_samples_leaf=1; total time=   0.2s\n",
      "[CV] END ...................max_depth=71, min_samples_leaf=1; total time=   0.1s\n",
      "[CV] END ...................max_depth=71, min_samples_leaf=1; total time=   0.2s\n",
      "[CV] END ...................max_depth=71, min_samples_leaf=1; total time=   0.1s\n",
      "[CV] END ...................max_depth=71, min_samples_leaf=1; total time=   0.1s\n",
      "[CV] END ..................max_depth=71, min_samples_leaf=11; total time=   0.1s\n",
      "[CV] END ..................max_depth=71, min_samples_leaf=11; total time=   0.1s\n",
      "[CV] END ..................max_depth=71, min_samples_leaf=11; total time=   0.1s\n",
      "[CV] END ..................max_depth=71, min_samples_leaf=11; total time=   0.1s\n",
      "[CV] END ..................max_depth=71, min_samples_leaf=11; total time=   0.1s\n",
      "[CV] END ..................max_depth=71, min_samples_leaf=21; total time=   0.1s\n",
      "[CV] END ..................max_depth=71, min_samples_leaf=21; total time=   0.1s\n",
      "[CV] END ..................max_depth=71, min_samples_leaf=21; total time=   0.1s\n",
      "[CV] END ..................max_depth=71, min_samples_leaf=21; total time=   0.1s\n",
      "[CV] END ..................max_depth=71, min_samples_leaf=21; total time=   0.1s\n",
      "[CV] END ..................max_depth=71, min_samples_leaf=31; total time=   0.1s\n",
      "[CV] END ..................max_depth=71, min_samples_leaf=31; total time=   0.1s\n",
      "[CV] END ..................max_depth=71, min_samples_leaf=31; total time=   0.1s\n",
      "[CV] END ..................max_depth=71, min_samples_leaf=31; total time=   0.1s\n",
      "[CV] END ..................max_depth=71, min_samples_leaf=31; total time=   0.1s\n",
      "[CV] END ..................max_depth=71, min_samples_leaf=41; total time=   0.1s\n",
      "[CV] END ..................max_depth=71, min_samples_leaf=41; total time=   0.1s\n",
      "[CV] END ..................max_depth=71, min_samples_leaf=41; total time=   0.1s\n",
      "[CV] END ..................max_depth=71, min_samples_leaf=41; total time=   0.1s\n",
      "[CV] END ..................max_depth=71, min_samples_leaf=41; total time=   0.1s\n",
      "[CV] END ..................max_depth=71, min_samples_leaf=51; total time=   0.1s\n",
      "[CV] END ..................max_depth=71, min_samples_leaf=51; total time=   0.1s\n",
      "[CV] END ..................max_depth=71, min_samples_leaf=51; total time=   0.1s\n",
      "[CV] END ..................max_depth=71, min_samples_leaf=51; total time=   0.1s\n",
      "[CV] END ..................max_depth=71, min_samples_leaf=51; total time=   0.1s\n",
      "[CV] END ..................max_depth=71, min_samples_leaf=61; total time=   0.1s\n",
      "[CV] END ..................max_depth=71, min_samples_leaf=61; total time=   0.1s\n",
      "[CV] END ..................max_depth=71, min_samples_leaf=61; total time=   0.1s\n",
      "[CV] END ..................max_depth=71, min_samples_leaf=61; total time=   0.1s\n",
      "[CV] END ..................max_depth=71, min_samples_leaf=61; total time=   0.1s\n",
      "[CV] END ..................max_depth=71, min_samples_leaf=71; total time=   0.1s\n",
      "[CV] END ..................max_depth=71, min_samples_leaf=71; total time=   0.1s\n",
      "[CV] END ..................max_depth=71, min_samples_leaf=71; total time=   0.1s\n",
      "[CV] END ..................max_depth=71, min_samples_leaf=71; total time=   0.1s\n",
      "[CV] END ..................max_depth=71, min_samples_leaf=71; total time=   0.1s\n",
      "[CV] END ..................max_depth=71, min_samples_leaf=81; total time=   0.1s\n",
      "[CV] END ..................max_depth=71, min_samples_leaf=81; total time=   0.1s\n",
      "[CV] END ..................max_depth=71, min_samples_leaf=81; total time=   0.1s\n",
      "[CV] END ..................max_depth=71, min_samples_leaf=81; total time=   0.1s\n",
      "[CV] END ..................max_depth=71, min_samples_leaf=81; total time=   0.1s\n",
      "[CV] END ..................max_depth=71, min_samples_leaf=91; total time=   0.1s\n",
      "[CV] END ..................max_depth=71, min_samples_leaf=91; total time=   0.1s\n",
      "[CV] END ..................max_depth=71, min_samples_leaf=91; total time=   0.1s\n",
      "[CV] END ..................max_depth=71, min_samples_leaf=91; total time=   0.1s\n",
      "[CV] END ..................max_depth=71, min_samples_leaf=91; total time=   0.1s\n",
      "[CV] END ...................max_depth=81, min_samples_leaf=1; total time=   0.2s\n",
      "[CV] END ...................max_depth=81, min_samples_leaf=1; total time=   0.1s\n",
      "[CV] END ...................max_depth=81, min_samples_leaf=1; total time=   0.1s\n",
      "[CV] END ...................max_depth=81, min_samples_leaf=1; total time=   0.1s\n",
      "[CV] END ...................max_depth=81, min_samples_leaf=1; total time=   0.1s\n",
      "[CV] END ..................max_depth=81, min_samples_leaf=11; total time=   0.1s\n",
      "[CV] END ..................max_depth=81, min_samples_leaf=11; total time=   0.1s\n",
      "[CV] END ..................max_depth=81, min_samples_leaf=11; total time=   0.1s\n",
      "[CV] END ..................max_depth=81, min_samples_leaf=11; total time=   0.1s\n",
      "[CV] END ..................max_depth=81, min_samples_leaf=11; total time=   0.1s\n",
      "[CV] END ..................max_depth=81, min_samples_leaf=21; total time=   0.1s\n",
      "[CV] END ..................max_depth=81, min_samples_leaf=21; total time=   0.1s\n",
      "[CV] END ..................max_depth=81, min_samples_leaf=21; total time=   0.1s\n",
      "[CV] END ..................max_depth=81, min_samples_leaf=21; total time=   0.1s\n",
      "[CV] END ..................max_depth=81, min_samples_leaf=21; total time=   0.1s\n",
      "[CV] END ..................max_depth=81, min_samples_leaf=31; total time=   0.1s\n",
      "[CV] END ..................max_depth=81, min_samples_leaf=31; total time=   0.1s\n",
      "[CV] END ..................max_depth=81, min_samples_leaf=31; total time=   0.1s\n",
      "[CV] END ..................max_depth=81, min_samples_leaf=31; total time=   0.1s\n",
      "[CV] END ..................max_depth=81, min_samples_leaf=31; total time=   0.1s\n",
      "[CV] END ..................max_depth=81, min_samples_leaf=41; total time=   0.1s\n",
      "[CV] END ..................max_depth=81, min_samples_leaf=41; total time=   0.1s\n",
      "[CV] END ..................max_depth=81, min_samples_leaf=41; total time=   0.1s\n",
      "[CV] END ..................max_depth=81, min_samples_leaf=41; total time=   0.1s\n",
      "[CV] END ..................max_depth=81, min_samples_leaf=41; total time=   0.1s\n",
      "[CV] END ..................max_depth=81, min_samples_leaf=51; total time=   0.1s\n",
      "[CV] END ..................max_depth=81, min_samples_leaf=51; total time=   0.1s\n",
      "[CV] END ..................max_depth=81, min_samples_leaf=51; total time=   0.1s\n",
      "[CV] END ..................max_depth=81, min_samples_leaf=51; total time=   0.1s\n",
      "[CV] END ..................max_depth=81, min_samples_leaf=51; total time=   0.1s\n",
      "[CV] END ..................max_depth=81, min_samples_leaf=61; total time=   0.1s\n",
      "[CV] END ..................max_depth=81, min_samples_leaf=61; total time=   0.1s\n",
      "[CV] END ..................max_depth=81, min_samples_leaf=61; total time=   0.1s\n",
      "[CV] END ..................max_depth=81, min_samples_leaf=61; total time=   0.1s\n",
      "[CV] END ..................max_depth=81, min_samples_leaf=61; total time=   0.1s\n",
      "[CV] END ..................max_depth=81, min_samples_leaf=71; total time=   0.1s\n",
      "[CV] END ..................max_depth=81, min_samples_leaf=71; total time=   0.1s\n",
      "[CV] END ..................max_depth=81, min_samples_leaf=71; total time=   0.1s\n",
      "[CV] END ..................max_depth=81, min_samples_leaf=71; total time=   0.1s\n",
      "[CV] END ..................max_depth=81, min_samples_leaf=71; total time=   0.1s\n",
      "[CV] END ..................max_depth=81, min_samples_leaf=81; total time=   0.1s\n",
      "[CV] END ..................max_depth=81, min_samples_leaf=81; total time=   0.1s\n",
      "[CV] END ..................max_depth=81, min_samples_leaf=81; total time=   0.1s\n",
      "[CV] END ..................max_depth=81, min_samples_leaf=81; total time=   0.1s\n",
      "[CV] END ..................max_depth=81, min_samples_leaf=81; total time=   0.1s\n",
      "[CV] END ..................max_depth=81, min_samples_leaf=91; total time=   0.1s\n",
      "[CV] END ..................max_depth=81, min_samples_leaf=91; total time=   0.1s\n",
      "[CV] END ..................max_depth=81, min_samples_leaf=91; total time=   0.1s\n",
      "[CV] END ..................max_depth=81, min_samples_leaf=91; total time=   0.1s\n",
      "[CV] END ..................max_depth=81, min_samples_leaf=91; total time=   0.1s\n",
      "[CV] END ...................max_depth=91, min_samples_leaf=1; total time=   0.2s\n",
      "[CV] END ...................max_depth=91, min_samples_leaf=1; total time=   0.1s\n",
      "[CV] END ...................max_depth=91, min_samples_leaf=1; total time=   0.1s\n",
      "[CV] END ...................max_depth=91, min_samples_leaf=1; total time=   0.1s\n",
      "[CV] END ...................max_depth=91, min_samples_leaf=1; total time=   0.1s\n",
      "[CV] END ..................max_depth=91, min_samples_leaf=11; total time=   0.1s\n",
      "[CV] END ..................max_depth=91, min_samples_leaf=11; total time=   0.1s\n",
      "[CV] END ..................max_depth=91, min_samples_leaf=11; total time=   0.1s\n",
      "[CV] END ..................max_depth=91, min_samples_leaf=11; total time=   0.1s\n",
      "[CV] END ..................max_depth=91, min_samples_leaf=11; total time=   0.1s\n",
      "[CV] END ..................max_depth=91, min_samples_leaf=21; total time=   0.1s\n",
      "[CV] END ..................max_depth=91, min_samples_leaf=21; total time=   0.1s\n",
      "[CV] END ..................max_depth=91, min_samples_leaf=21; total time=   0.1s\n",
      "[CV] END ..................max_depth=91, min_samples_leaf=21; total time=   0.1s\n",
      "[CV] END ..................max_depth=91, min_samples_leaf=21; total time=   0.1s\n",
      "[CV] END ..................max_depth=91, min_samples_leaf=31; total time=   0.1s\n",
      "[CV] END ..................max_depth=91, min_samples_leaf=31; total time=   0.1s\n",
      "[CV] END ..................max_depth=91, min_samples_leaf=31; total time=   0.1s\n",
      "[CV] END ..................max_depth=91, min_samples_leaf=31; total time=   0.1s\n",
      "[CV] END ..................max_depth=91, min_samples_leaf=31; total time=   0.1s\n",
      "[CV] END ..................max_depth=91, min_samples_leaf=41; total time=   0.1s\n",
      "[CV] END ..................max_depth=91, min_samples_leaf=41; total time=   0.1s\n",
      "[CV] END ..................max_depth=91, min_samples_leaf=41; total time=   0.1s\n",
      "[CV] END ..................max_depth=91, min_samples_leaf=41; total time=   0.1s\n",
      "[CV] END ..................max_depth=91, min_samples_leaf=41; total time=   0.1s\n",
      "[CV] END ..................max_depth=91, min_samples_leaf=51; total time=   0.1s\n",
      "[CV] END ..................max_depth=91, min_samples_leaf=51; total time=   0.1s\n",
      "[CV] END ..................max_depth=91, min_samples_leaf=51; total time=   0.1s\n",
      "[CV] END ..................max_depth=91, min_samples_leaf=51; total time=   0.1s\n",
      "[CV] END ..................max_depth=91, min_samples_leaf=51; total time=   0.1s\n",
      "[CV] END ..................max_depth=91, min_samples_leaf=61; total time=   0.1s\n",
      "[CV] END ..................max_depth=91, min_samples_leaf=61; total time=   0.1s\n",
      "[CV] END ..................max_depth=91, min_samples_leaf=61; total time=   0.1s\n",
      "[CV] END ..................max_depth=91, min_samples_leaf=61; total time=   0.1s\n",
      "[CV] END ..................max_depth=91, min_samples_leaf=61; total time=   0.1s\n",
      "[CV] END ..................max_depth=91, min_samples_leaf=71; total time=   0.1s\n",
      "[CV] END ..................max_depth=91, min_samples_leaf=71; total time=   0.1s\n",
      "[CV] END ..................max_depth=91, min_samples_leaf=71; total time=   0.1s\n",
      "[CV] END ..................max_depth=91, min_samples_leaf=71; total time=   0.1s\n",
      "[CV] END ..................max_depth=91, min_samples_leaf=71; total time=   0.1s\n",
      "[CV] END ..................max_depth=91, min_samples_leaf=81; total time=   0.1s\n",
      "[CV] END ..................max_depth=91, min_samples_leaf=81; total time=   0.1s\n",
      "[CV] END ..................max_depth=91, min_samples_leaf=81; total time=   0.1s\n",
      "[CV] END ..................max_depth=91, min_samples_leaf=81; total time=   0.1s\n",
      "[CV] END ..................max_depth=91, min_samples_leaf=81; total time=   0.1s\n",
      "[CV] END ..................max_depth=91, min_samples_leaf=91; total time=   0.1s\n",
      "[CV] END ..................max_depth=91, min_samples_leaf=91; total time=   0.1s\n",
      "[CV] END ..................max_depth=91, min_samples_leaf=91; total time=   0.1s\n",
      "[CV] END ..................max_depth=91, min_samples_leaf=91; total time=   0.1s\n",
      "[CV] END ..................max_depth=91, min_samples_leaf=91; total time=   0.1s\n"
     ]
    },
    {
     "data": {
      "text/plain": [
       "GridSearchCV(estimator=DecisionTreeClassifier(),\n",
       "             param_grid={'max_depth': range(1, 100, 10),\n",
       "                         'min_samples_leaf': range(1, 100, 10)},\n",
       "             verbose=2)"
      ]
     },
     "execution_count": 60,
     "metadata": {},
     "output_type": "execute_result"
    }
   ],
   "source": [
    "clf.fit(X_train, y_train)"
   ]
  },
  {
   "cell_type": "code",
   "execution_count": 64,
   "id": "funky-withdrawal",
   "metadata": {},
   "outputs": [],
   "source": [
    "dtree = clf.best_estimator_"
   ]
  },
  {
   "cell_type": "code",
   "execution_count": 71,
   "id": "normal-amplifier",
   "metadata": {},
   "outputs": [],
   "source": [
    "dtree = dtree.fit(X_train, y_train)"
   ]
  },
  {
   "cell_type": "code",
   "execution_count": 74,
   "id": "preliminary-kingston",
   "metadata": {},
   "outputs": [],
   "source": [
    "# clusters = km.predict(X_test)\n",
    "# X_test[\"cluster_id\"] = clusters"
   ]
  },
  {
   "cell_type": "code",
   "execution_count": 75,
   "id": "suspended-pillow",
   "metadata": {},
   "outputs": [
    {
     "data": {
      "text/plain": [
       "0.8564476885644768"
      ]
     },
     "execution_count": 75,
     "metadata": {},
     "output_type": "execute_result"
    }
   ],
   "source": [
    "dtree.score(X_test, y_test)"
   ]
  },
  {
   "cell_type": "code",
   "execution_count": null,
   "id": "spread-occurrence",
   "metadata": {},
   "outputs": [],
   "source": []
  }
 ],
 "metadata": {
  "kernelspec": {
   "display_name": "Python 3",
   "language": "python",
   "name": "python3"
  },
  "language_info": {
   "codemirror_mode": {
    "name": "ipython",
    "version": 3
   },
   "file_extension": ".py",
   "mimetype": "text/x-python",
   "name": "python",
   "nbconvert_exporter": "python",
   "pygments_lexer": "ipython3",
   "version": "3.7.0"
  }
 },
 "nbformat": 4,
 "nbformat_minor": 5
}
